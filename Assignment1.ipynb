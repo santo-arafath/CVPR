{
 "cells": [
  {
   "cell_type": "code",
   "execution_count": 6,
   "id": "ba0dc4f5-40d0-4368-9e95-93e4277e6a93",
   "metadata": {},
   "outputs": [
    {
     "name": "stdout",
     "output_type": "stream",
     "text": [
      "X_train shape: (50000, 32, 32, 3)\n",
      "Y_train shape: (50000,)\n"
     ]
    }
   ],
   "source": [
    "\n",
    "import tensorflow as tf\n",
    "import os\n",
    "import cv2\n",
    "import numpy as np\n",
    "\n",
    "data_dir = 'C:\\\\Users\\\\Dell\\\\Desktop\\\\CVPR\\\\CIFAR-10-images-master\\\\CIFAR-10-images-master\\\\train\\\\'\n",
    "\n",
    "\n",
    "\n",
    "images = []\n",
    "labels = []\n",
    "\n",
    "\n",
    "for class_name in os.listdir(data_dir):\n",
    "    class_dir = os.path.join(data_dir, class_name)\n",
    "\n",
    "    \n",
    "    if os.path.isdir(class_dir):\n",
    "        \n",
    "        for image_filename in os.listdir(class_dir):\n",
    "            if image_filename.lower().endswith(('.jpg', '.png', '.jpeg', '.bmp', '.gif')):\n",
    "                image_path = os.path.join(class_dir, image_filename)\n",
    "                image = cv2.imread(image_path)\n",
    "                \n",
    "                if image is not None:\n",
    "                   \n",
    "                    images.append(image)\n",
    "                    labels.append(class_name)\n",
    "\n",
    "\n",
    "X_train = np.array(images)\n",
    "Y_train = np.array(labels)\n",
    "\n",
    "\n",
    "print(\"X_train shape:\", X_train.shape)\n",
    "print(\"Y_train shape:\", Y_train.shape)\n",
    "\n"
   ]
  },
  {
   "cell_type": "code",
   "execution_count": 7,
   "id": "b11415e1-e7b4-4dbd-97b5-41f50e033cc4",
   "metadata": {},
   "outputs": [
    {
     "name": "stdout",
     "output_type": "stream",
     "text": [
      "X_train shape: (32, 32, 3)\n",
      "Y_train shape: ()\n"
     ]
    }
   ],
   "source": [
    "print(\"X_train shape:\", X_train[0].shape)\n",
    "print(\"Y_train shape:\", Y_train[0].shape)"
   ]
  },
  {
   "cell_type": "code",
   "execution_count": 8,
   "id": "6afb2f0a-bd2d-45ef-aeb3-f456557b784f",
   "metadata": {},
   "outputs": [
    {
     "name": "stdout",
     "output_type": "stream",
     "text": [
      "X_train_gray shape: (50000, 32, 32)\n"
     ]
    }
   ],
   "source": [
    "grayscale_images = []\n",
    "\n",
    "for color_image in X_train:\n",
    "    \n",
    "    gray_image = cv2.cvtColor(color_image, cv2.COLOR_BGR2GRAY)\n",
    "    \n",
    "    \n",
    "    grayscale_images.append(gray_image)\n",
    "\n",
    "\n",
    "X_train_gray = np.array(grayscale_images)\n",
    "\n",
    "\n",
    "print(\"X_train_gray shape:\", X_train_gray.shape)"
   ]
  },
  {
   "cell_type": "code",
   "execution_count": 9,
   "id": "68a20404-f523-41a5-8616-b901ad264260",
   "metadata": {},
   "outputs": [
    {
     "name": "stdout",
     "output_type": "stream",
     "text": [
      "X_train_gray shape: (32, 32)\n"
     ]
    }
   ],
   "source": [
    "print(\"X_train_gray shape:\", X_train_gray[0].shape)"
   ]
  },
  {
   "cell_type": "code",
   "execution_count": null,
   "id": "d21c1b00-f0a8-46c4-8843-a4ebeddaf310",
   "metadata": {},
   "outputs": [],
   "source": []
  },
  {
   "cell_type": "code",
   "execution_count": null,
   "id": "2150a3b4-f36f-4ca5-a86c-19ad023d6db0",
   "metadata": {},
   "outputs": [],
   "source": []
  }
 ],
 "metadata": {
  "kernelspec": {
   "display_name": "Python 3 (ipykernel)",
   "language": "python",
   "name": "python3"
  },
  "language_info": {
   "codemirror_mode": {
    "name": "ipython",
    "version": 3
   },
   "file_extension": ".py",
   "mimetype": "text/x-python",
   "name": "python",
   "nbconvert_exporter": "python",
   "pygments_lexer": "ipython3",
   "version": "3.11.5"
  }
 },
 "nbformat": 4,
 "nbformat_minor": 5
}
