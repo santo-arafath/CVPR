{
  "nbformat": 4,
  "nbformat_minor": 0,
  "metadata": {
    "colab": {
      "provenance": []
    },
    "kernelspec": {
      "name": "python3",
      "display_name": "Python 3"
    },
    "language_info": {
      "name": "python"
    }
  },
  "cells": [
    {
      "cell_type": "code",
      "execution_count": null,
      "metadata": {
        "id": "b-kg73fkjSgd"
      },
      "outputs": [],
      "source": [
        "import tensorflow as tf\n",
        "import pandas as pd\n",
        "import numpy as np\n",
        "import matplotlib.pyplot as plt\n",
        "from tqdm import tqdm\n",
        "import random\n",
        "import os\n",
        "import cv2\n",
        "from tqdm import tqdm\n",
        "import random\n",
        "from sklearn.model_selection import KFold"
      ]
    },
    {
      "cell_type": "markdown",
      "source": [
        "# **CEFAR10 Data Load**"
      ],
      "metadata": {
        "id": "Z3ewFM-ey-aO"
      }
    },
    {
      "cell_type": "code",
      "source": [
        "TRAIN_DIR = '/content/drive/MyDrive/Deep Learning/CIFAR-10-images-master/test'\n",
        "CATEGORIES = os.listdir(TRAIN_DIR)\n",
        "\n",
        "print(CATEGORIES)"
      ],
      "metadata": {
        "id": "Nud3rK-KmVLW",
        "colab": {
          "base_uri": "https://localhost:8080/"
        },
        "outputId": "39d4b73c-85c2-4e67-eb18-e8b18139c1d3"
      },
      "execution_count": null,
      "outputs": [
        {
          "output_type": "stream",
          "name": "stdout",
          "text": [
            "['automobile', 'airplane', 'cat', 'deer', 'frog', 'bird', 'horse', 'ship', 'dog', 'truck']\n"
          ]
        }
      ]
    },
    {
      "cell_type": "markdown",
      "source": [
        "#**Dataset and Preprocessing:**\n"
      ],
      "metadata": {
        "id": "S--7GryQRsJN"
      }
    },
    {
      "cell_type": "markdown",
      "source": [],
      "metadata": {
        "id": "x-HkbA39n9gq"
      }
    },
    {
      "cell_type": "code",
      "source": [
        "TRAIN_DATA = []\n",
        "\n",
        "for c in CATEGORIES:\n",
        "    path = os.path.join(TRAIN_DIR, c)\n",
        "    for img in tqdm(os.listdir(path)):\n",
        "        img_arr = cv2.imread(os.path.join(path, img), cv2.IMREAD_GRAYSCALE)\n",
        "        TRAIN_DATA.append([img_arr, CATEGORIES.index(c)])\n",
        "\n",
        "    print(len(TRAIN_DATA))"
      ],
      "metadata": {
        "colab": {
          "base_uri": "https://localhost:8080/"
        },
        "id": "aOCIw6iWoCjb",
        "outputId": "f3fe61f7-1004-445d-eaac-8293bc813e1f"
      },
      "execution_count": null,
      "outputs": [
        {
          "output_type": "stream",
          "name": "stderr",
          "text": [
            "100%|██████████| 1000/1000 [00:39<00:00, 25.45it/s]\n"
          ]
        },
        {
          "output_type": "stream",
          "name": "stdout",
          "text": [
            "1000\n"
          ]
        },
        {
          "output_type": "stream",
          "name": "stderr",
          "text": [
            "100%|██████████| 1000/1000 [00:13<00:00, 73.05it/s]\n"
          ]
        },
        {
          "output_type": "stream",
          "name": "stdout",
          "text": [
            "2000\n"
          ]
        },
        {
          "output_type": "stream",
          "name": "stderr",
          "text": [
            "100%|██████████| 1000/1000 [00:14<00:00, 68.22it/s]\n"
          ]
        },
        {
          "output_type": "stream",
          "name": "stdout",
          "text": [
            "3000\n"
          ]
        },
        {
          "output_type": "stream",
          "name": "stderr",
          "text": [
            "100%|██████████| 1000/1000 [00:14<00:00, 71.07it/s]\n"
          ]
        },
        {
          "output_type": "stream",
          "name": "stdout",
          "text": [
            "4000\n"
          ]
        },
        {
          "output_type": "stream",
          "name": "stderr",
          "text": [
            "100%|██████████| 1000/1000 [00:14<00:00, 67.15it/s]\n"
          ]
        },
        {
          "output_type": "stream",
          "name": "stdout",
          "text": [
            "5000\n"
          ]
        },
        {
          "output_type": "stream",
          "name": "stderr",
          "text": [
            "100%|██████████| 1000/1000 [00:15<00:00, 63.05it/s]\n"
          ]
        },
        {
          "output_type": "stream",
          "name": "stdout",
          "text": [
            "6000\n"
          ]
        },
        {
          "output_type": "stream",
          "name": "stderr",
          "text": [
            "100%|██████████| 1000/1000 [00:15<00:00, 65.77it/s]\n"
          ]
        },
        {
          "output_type": "stream",
          "name": "stdout",
          "text": [
            "7000\n"
          ]
        },
        {
          "output_type": "stream",
          "name": "stderr",
          "text": [
            "100%|██████████| 1000/1000 [00:17<00:00, 57.89it/s]\n"
          ]
        },
        {
          "output_type": "stream",
          "name": "stdout",
          "text": [
            "8000\n"
          ]
        },
        {
          "output_type": "stream",
          "name": "stderr",
          "text": [
            "100%|██████████| 1000/1000 [00:14<00:00, 67.08it/s]\n"
          ]
        },
        {
          "output_type": "stream",
          "name": "stdout",
          "text": [
            "9000\n"
          ]
        },
        {
          "output_type": "stream",
          "name": "stderr",
          "text": [
            "100%|██████████| 1000/1000 [00:13<00:00, 71.52it/s]"
          ]
        },
        {
          "output_type": "stream",
          "name": "stdout",
          "text": [
            "10000\n"
          ]
        },
        {
          "output_type": "stream",
          "name": "stderr",
          "text": [
            "\n"
          ]
        }
      ]
    },
    {
      "cell_type": "code",
      "source": [
        "plt.imshow(TRAIN_DATA[0][0], cmap=\"gray\")\n",
        "print(TRAIN_DATA[0][1])\n",
        "print((TRAIN_DATA[0][0]).shape)"
      ],
      "metadata": {
        "colab": {
          "base_uri": "https://localhost:8080/",
          "height": 467
        },
        "id": "tCSCewEDqpcS",
        "outputId": "d7047ac8-91bd-480d-b232-063c42761228"
      },
      "execution_count": null,
      "outputs": [
        {
          "output_type": "stream",
          "name": "stdout",
          "text": [
            "0\n",
            "(32, 32)\n"
          ]
        },
        {
          "output_type": "display_data",
          "data": {
            "text/plain": [
              "<Figure size 640x480 with 1 Axes>"
            ],
            "image/png": "[encoded data removed]"
          },
          "metadata": {}
        }
      ]
    },
    {
      "cell_type": "code",
      "source": [
        "print(TRAIN_DATA[1][1])"
      ],
      "metadata": {
        "colab": {
          "base_uri": "https://localhost:8080/"
        },
        "id": "JYTFgjb5M7jd",
        "outputId": "7300a171-e1d1-495d-8ddc-653681aaf71e"
      },
      "execution_count": null,
      "outputs": [
        {
          "output_type": "stream",
          "name": "stdout",
          "text": [
            "0\n"
          ]
        }
      ]
    },
    {
      "cell_type": "markdown",
      "source": [],
      "metadata": {
        "id": "cgRLwkh8zfYp"
      }
    },
    {
      "cell_type": "code",
      "source": [
        "random.shuffle(TRAIN_DATA)"
      ],
      "metadata": {
        "id": "xmb0uU7TytMu"
      },
      "execution_count": null,
      "outputs": []
    },
    {
      "cell_type": "code",
      "source": [
        "print(TRAIN_DATA[1][1])"
      ],
      "metadata": {
        "colab": {
          "base_uri": "https://localhost:8080/"
        },
        "id": "BGZXn-UPz0zx",
        "outputId": "1e15e9de-d9e2-4f2b-9dfe-55fc8e502e64"
      },
      "execution_count": null,
      "outputs": [
        {
          "output_type": "stream",
          "name": "stdout",
          "text": [
            "8\n"
          ]
        }
      ]
    },
    {
      "cell_type": "markdown",
      "source": [
        "#**Model Building and Evaluation:**\n"
      ],
      "metadata": {
        "id": "uwTf3aCNRcgO"
      }
    },
    {
      "cell_type": "code",
      "source": [
        "k_val = [1, 3, 5, 7, 9]\n",
        "k_error_for_L1 = {}\n",
        "k_error_for_L2 = {}\n"
      ],
      "metadata": {
        "id": "TkA2rfbI-0Df"
      },
      "execution_count": null,
      "outputs": []
    },
    {
      "cell_type": "code",
      "source": [
        "for k in k_val:\n",
        "    k_error_for_L1[k] = []\n",
        "    k_error_for_L2[k] = []\n",
        "\n",
        "\n",
        "folds = []\n",
        "fold_size = len(TRAIN_DATA) // 5\n",
        "for i in range(5):\n",
        "    fold = TRAIN_DATA[i * fold_size: (i + 1) * fold_size]\n",
        "    folds.append(fold)\n",
        "\n",
        "for i, test_val in enumerate(folds):\n",
        "    train_val = [fold for j, fold in enumerate(folds) if j != i]\n",
        "\n",
        "    All_accuracies_for_L1 = []\n",
        "    All_accuracies_for_L2 = []\n",
        "\n",
        "    for k in k_val:\n",
        "        correct_prediction_count_L1 = 0\n",
        "        correct_prediction_count_L2 = 0\n",
        "        total_prediction = 0\n",
        "\n",
        "        for test in tqdm(test_val):\n",
        "            test_img = test[0]\n",
        "            test_label = test[1]\n",
        "\n",
        "\n",
        "\n",
        "            L1_distance_value = []\n",
        "            L2_distance_value = []\n",
        "\n",
        "            for t_fold in train_val:\n",
        "                for train in t_fold:\n",
        "                    train_img = train[0]\n",
        "                    train_label = train[1]\n",
        "                    sub_L1 = np.sum(np.abs(train_img - test_img))\n",
        "                    L1_distance_value.append((sub_L1, train_label))\n",
        "\n",
        "                    sub_L2 = np.sqrt(np.sum((train_img - test_img) ** 2))\n",
        "                    L2_distance_value.append((sub_L2, train_label))\n",
        "\n",
        "            L1_distance_value_sort = sorted(L1_distance_value, key=lambda x: x[0])[:k]\n",
        "            near_L1 = [s[1] for s in L1_distance_value_sort]\n",
        "            pred_L1 = max(set(near_L1), key=near_L1.count)\n",
        "            L2_distance_value_sort = sorted(L2_distance_value, key=lambda x: x[0])[:k]\n",
        "            near_L2 = [s[1] for s in L2_distance_value_sort]\n",
        "            pred_L2 = max(set(near_L2), key=near_L2.count)\n",
        "            if pred_L1 == test_label:\n",
        "                correct_prediction_count_L1 += 1\n",
        "            if pred_L2 == test_label:\n",
        "                correct_prediction_count_L2 += 1\n",
        "            total_prediction += 1\n",
        "\n",
        "        accuracy_for_l1_single = correct_prediction_count_L1 / total_prediction\n",
        "        All_accuracies_for_L1.append(accuracy_for_l1_single)\n",
        "        k_error_for_L1[k].append(accuracy_for_l1_single)\n",
        "\n",
        "        accuracy_for_l2_single = correct_prediction_count_L2 / total_prediction\n",
        "        All_accuracies_for_L2.append(accuracy_for_l2_single)\n",
        "        k_error_for_L2[k].append(accuracy_for_l2_single)\n",
        "        print(\"k_values = {},Fold_number  {},  Accuracy_for_L1 = {:.2f}%, Accuracy_for_L2 = {:.2f}%\".format(k,i, accuracy_for_l1_single * 100, accuracy_for_l2_single * 100))\n"
      ],
      "metadata": {
        "colab": {
          "base_uri": "https://localhost:8080/"
        },
        "id": "vcQ0ruaip5d7",
        "outputId": "eef72cd3-ce3e-49ea-d5ac-0a3780edbf1e"
      },
      "execution_count": null,
      "outputs": [
        {
          "output_type": "stream",
          "name": "stderr",
          "text": [
            "100%|██████████| 2000/2000 [06:06<00:00,  5.46it/s]\n"
          ]
        },
        {
          "output_type": "stream",
          "name": "stdout",
          "text": [
            "k_values = 1,Fold_number  0,  Accuracy_for_L1 = 17.80%, Accuracy_for_L2 = 17.10%\n"
          ]
        },
        {
          "output_type": "stream",
          "name": "stderr",
          "text": [
            "100%|██████████| 2000/2000 [06:04<00:00,  5.48it/s]\n"
          ]
        },
        {
          "output_type": "stream",
          "name": "stdout",
          "text": [
            "k_values = 3,Fold_number  0,  Accuracy_for_L1 = 17.70%, Accuracy_for_L2 = 16.55%\n"
          ]
        },
        {
          "output_type": "stream",
          "name": "stderr",
          "text": [
            "100%|██████████| 2000/2000 [06:02<00:00,  5.51it/s]\n"
          ]
        },
        {
          "output_type": "stream",
          "name": "stdout",
          "text": [
            "k_values = 5,Fold_number  0,  Accuracy_for_L1 = 17.65%, Accuracy_for_L2 = 16.40%\n"
          ]
        },
        {
          "output_type": "stream",
          "name": "stderr",
          "text": [
            "100%|██████████| 2000/2000 [06:04<00:00,  5.49it/s]\n"
          ]
        },
        {
          "output_type": "stream",
          "name": "stdout",
          "text": [
            "k_values = 7,Fold_number  0,  Accuracy_for_L1 = 17.75%, Accuracy_for_L2 = 15.90%\n"
          ]
        },
        {
          "output_type": "stream",
          "name": "stderr",
          "text": [
            "100%|██████████| 2000/2000 [06:03<00:00,  5.50it/s]\n"
          ]
        },
        {
          "output_type": "stream",
          "name": "stdout",
          "text": [
            "k_values = 9,Fold_number  0,  Accuracy_for_L1 = 17.50%, Accuracy_for_L2 = 16.20%\n"
          ]
        },
        {
          "output_type": "stream",
          "name": "stderr",
          "text": [
            "100%|██████████| 2000/2000 [06:03<00:00,  5.51it/s]\n"
          ]
        },
        {
          "output_type": "stream",
          "name": "stdout",
          "text": [
            "k_values = 1,Fold_number  1,  Accuracy_for_L1 = 16.80%, Accuracy_for_L2 = 16.80%\n"
          ]
        },
        {
          "output_type": "stream",
          "name": "stderr",
          "text": [
            "100%|██████████| 2000/2000 [06:04<00:00,  5.49it/s]\n"
          ]
        },
        {
          "output_type": "stream",
          "name": "stdout",
          "text": [
            "k_values = 3,Fold_number  1,  Accuracy_for_L1 = 17.80%, Accuracy_for_L2 = 15.95%\n"
          ]
        },
        {
          "output_type": "stream",
          "name": "stderr",
          "text": [
            "100%|██████████| 2000/2000 [06:04<00:00,  5.48it/s]\n"
          ]
        },
        {
          "output_type": "stream",
          "name": "stdout",
          "text": [
            "k_values = 5,Fold_number  1,  Accuracy_for_L1 = 17.35%, Accuracy_for_L2 = 16.05%\n"
          ]
        },
        {
          "output_type": "stream",
          "name": "stderr",
          "text": [
            "100%|██████████| 2000/2000 [06:04<00:00,  5.49it/s]\n"
          ]
        },
        {
          "output_type": "stream",
          "name": "stdout",
          "text": [
            "k_values = 7,Fold_number  1,  Accuracy_for_L1 = 16.95%, Accuracy_for_L2 = 16.30%\n"
          ]
        },
        {
          "output_type": "stream",
          "name": "stderr",
          "text": [
            "100%|██████████| 2000/2000 [06:05<00:00,  5.46it/s]\n"
          ]
        },
        {
          "output_type": "stream",
          "name": "stdout",
          "text": [
            "k_values = 9,Fold_number  1,  Accuracy_for_L1 = 17.55%, Accuracy_for_L2 = 16.65%\n"
          ]
        },
        {
          "output_type": "stream",
          "name": "stderr",
          "text": [
            "100%|██████████| 2000/2000 [06:03<00:00,  5.50it/s]\n"
          ]
        },
        {
          "output_type": "stream",
          "name": "stdout",
          "text": [
            "k_values = 1,Fold_number  2,  Accuracy_for_L1 = 17.55%, Accuracy_for_L2 = 17.55%\n"
          ]
        },
        {
          "output_type": "stream",
          "name": "stderr",
          "text": [
            "100%|██████████| 2000/2000 [06:04<00:00,  5.49it/s]\n"
          ]
        },
        {
          "output_type": "stream",
          "name": "stdout",
          "text": [
            "k_values = 3,Fold_number  2,  Accuracy_for_L1 = 17.25%, Accuracy_for_L2 = 16.50%\n"
          ]
        },
        {
          "output_type": "stream",
          "name": "stderr",
          "text": [
            "100%|██████████| 2000/2000 [06:05<00:00,  5.48it/s]\n"
          ]
        },
        {
          "output_type": "stream",
          "name": "stdout",
          "text": [
            "k_values = 5,Fold_number  2,  Accuracy_for_L1 = 16.95%, Accuracy_for_L2 = 15.30%\n"
          ]
        },
        {
          "output_type": "stream",
          "name": "stderr",
          "text": [
            "100%|██████████| 2000/2000 [06:04<00:00,  5.49it/s]\n"
          ]
        },
        {
          "output_type": "stream",
          "name": "stdout",
          "text": [
            "k_values = 7,Fold_number  2,  Accuracy_for_L1 = 17.15%, Accuracy_for_L2 = 15.40%\n"
          ]
        },
        {
          "output_type": "stream",
          "name": "stderr",
          "text": [
            "100%|██████████| 2000/2000 [06:04<00:00,  5.49it/s]\n"
          ]
        },
        {
          "output_type": "stream",
          "name": "stdout",
          "text": [
            "k_values = 9,Fold_number  2,  Accuracy_for_L1 = 15.80%, Accuracy_for_L2 = 15.25%\n"
          ]
        },
        {
          "output_type": "stream",
          "name": "stderr",
          "text": [
            "100%|██████████| 2000/2000 [06:04<00:00,  5.49it/s]\n"
          ]
        },
        {
          "output_type": "stream",
          "name": "stdout",
          "text": [
            "k_values = 1,Fold_number  3,  Accuracy_for_L1 = 16.55%, Accuracy_for_L2 = 15.95%\n"
          ]
        },
        {
          "output_type": "stream",
          "name": "stderr",
          "text": [
            "100%|██████████| 2000/2000 [06:04<00:00,  5.48it/s]\n"
          ]
        },
        {
          "output_type": "stream",
          "name": "stdout",
          "text": [
            "k_values = 3,Fold_number  3,  Accuracy_for_L1 = 17.35%, Accuracy_for_L2 = 15.90%\n"
          ]
        },
        {
          "output_type": "stream",
          "name": "stderr",
          "text": [
            "100%|██████████| 2000/2000 [06:04<00:00,  5.49it/s]\n"
          ]
        },
        {
          "output_type": "stream",
          "name": "stdout",
          "text": [
            "k_values = 5,Fold_number  3,  Accuracy_for_L1 = 17.05%, Accuracy_for_L2 = 15.75%\n"
          ]
        },
        {
          "output_type": "stream",
          "name": "stderr",
          "text": [
            "100%|██████████| 2000/2000 [06:09<00:00,  5.41it/s]\n"
          ]
        },
        {
          "output_type": "stream",
          "name": "stdout",
          "text": [
            "k_values = 7,Fold_number  3,  Accuracy_for_L1 = 16.85%, Accuracy_for_L2 = 15.60%\n"
          ]
        },
        {
          "output_type": "stream",
          "name": "stderr",
          "text": [
            "100%|██████████| 2000/2000 [06:06<00:00,  5.46it/s]\n"
          ]
        },
        {
          "output_type": "stream",
          "name": "stdout",
          "text": [
            "k_values = 9,Fold_number  3,  Accuracy_for_L1 = 16.75%, Accuracy_for_L2 = 15.85%\n"
          ]
        },
        {
          "output_type": "stream",
          "name": "stderr",
          "text": [
            "100%|██████████| 2000/2000 [06:07<00:00,  5.45it/s]\n"
          ]
        },
        {
          "output_type": "stream",
          "name": "stdout",
          "text": [
            "k_values = 1,Fold_number  4,  Accuracy_for_L1 = 17.25%, Accuracy_for_L2 = 16.45%\n"
          ]
        },
        {
          "output_type": "stream",
          "name": "stderr",
          "text": [
            "100%|██████████| 2000/2000 [06:06<00:00,  5.45it/s]\n"
          ]
        },
        {
          "output_type": "stream",
          "name": "stdout",
          "text": [
            "k_values = 3,Fold_number  4,  Accuracy_for_L1 = 16.95%, Accuracy_for_L2 = 15.35%\n"
          ]
        },
        {
          "output_type": "stream",
          "name": "stderr",
          "text": [
            "100%|██████████| 2000/2000 [06:07<00:00,  5.45it/s]\n"
          ]
        },
        {
          "output_type": "stream",
          "name": "stdout",
          "text": [
            "k_values = 5,Fold_number  4,  Accuracy_for_L1 = 15.70%, Accuracy_for_L2 = 15.15%\n"
          ]
        },
        {
          "output_type": "stream",
          "name": "stderr",
          "text": [
            "100%|██████████| 2000/2000 [06:07<00:00,  5.44it/s]\n"
          ]
        },
        {
          "output_type": "stream",
          "name": "stdout",
          "text": [
            "k_values = 7,Fold_number  4,  Accuracy_for_L1 = 15.15%, Accuracy_for_L2 = 14.90%\n"
          ]
        },
        {
          "output_type": "stream",
          "name": "stderr",
          "text": [
            "100%|██████████| 2000/2000 [06:05<00:00,  5.47it/s]"
          ]
        },
        {
          "output_type": "stream",
          "name": "stdout",
          "text": [
            "k_values = 9,Fold_number  4,  Accuracy_for_L1 = 14.60%, Accuracy_for_L2 = 15.45%\n"
          ]
        },
        {
          "output_type": "stream",
          "name": "stderr",
          "text": [
            "\n"
          ]
        }
      ]
    },
    {
      "cell_type": "markdown",
      "source": [
        "#**Results and Analysis:**\n"
      ],
      "metadata": {
        "id": "jEdDun9oRKak"
      }
    },
    {
      "cell_type": "code",
      "source": [
        "k_values = list(k_val)\n",
        "\n",
        "\n",
        "mean_accuracies_L1 = [np.mean(k_error_for_L1[k]) for k in k_values]\n",
        "mean_accuracies_L2 = [np.mean(k_error_for_L2[k]) for k in k_values]\n",
        "\n",
        "\n",
        "plt.figure(figsize=(10, 6))\n",
        "\n",
        "\n",
        "plt.plot(k_values, mean_accuracies_L1, marker='o', label='Mean L1 Accuracy', linestyle='-', color='b')\n",
        "plt.plot(k_values, mean_accuracies_L2, marker='x', label='Mean L2 Accuracy', linestyle='--', color='r')\n",
        "\n",
        "plt.title('Mean L1 and L2 Distance Accuracies')\n",
        "plt.xlabel('k')\n",
        "plt.ylabel('Mean Accuracy')\n",
        "plt.legend()\n",
        "\n",
        "\n",
        "plt.tight_layout()\n",
        "plt.show()"
      ],
      "metadata": {
        "id": "7OKZ6AcH1mz9",
        "colab": {
          "base_uri": "https://localhost:8080/",
          "height": 607
        },
        "outputId": "7d8efc1f-6169-4341-cd29-9233483f7bec"
      },
      "execution_count": null,
      "outputs": [
        {
          "output_type": "display_data",
          "data": {
            "text/plain": [
              "<Figure size 1000x600 with 1 Axes>"
            ],
            "image/png": "[encoded data removed]"
          },
          "metadata": {}
        }
      ]
    },
    {
      "cell_type": "markdown",
      "source": [
        "# **Discussion:**\n",
        "\n",
        "In this analysis, we examined the performance of the Manhattan (L1) and Euclidean (L2) distance metrics for image classification using a 5-fold cross-validation approach on a grayscale version of the CIFAR-10 dataset. The objective was to compare the two distance calculation techniques and assess their suitability for this specific dataset.\n",
        "\n",
        "  ### Dataset Characteristics:\n",
        "  The CIFAR-10 dataset comprises 32x32 grayscale images distributed across ten different classes, making it a moderately complex dataset for image classification. The dataset includes a variety of objects, and classifying them accurately poses a challenging task.\n",
        "\n",
        "  ### Performance Comparison:\n",
        "  Based on our analysis, we compared the average accuracy values obtained from 5-fold cross-validation for both L1 and L2 distances. The results revealed that the average accuracy for L1 distances fell within the range of approximately 15.5% to 16.75%, while the average accuracy for L2 distances ranged from approximately 16.5% to 17.2%.\n",
        "\n",
        "  ### Interpretation:\n",
        "  The performance of both L1 and L2 distances indicates that these distance metrics can achieve relatively similar accuracy levels in the range of 15.5% to 17.2%. These results suggest that the grayscale CIFAR-10 dataset may not exhibit a significant preference for one distance metric over the other.\n",
        "\n",
        "  ## Factors to Consider:\n",
        "  ### Dataset Complexity:\n",
        "   While the dataset is moderately complex, the relatively close performance of L1 and L2 distances suggests that neither metric significantly outperforms the other. This suggests that the nature of the features and the distribution of classes do not strongly favor one distance calculation technique.\n",
        "\n",
        "  ## Hyperparameter Variation:\n",
        "  The variation in accuracy within the given range of k values suggests that the choice of k may impact the performance of the k-NN algorithm. Further optimization of the hyperparameter k may lead to enhanced accuracy.\n",
        "\n",
        "## Conclusion:\n",
        "In this evaluation, both Manhattan (L1) and Euclidean (L2) distances displayed similar performance on the grayscale CIFAR-10 dataset, achieving average accuracy within the range of 15.5% to 17.2%. While these results indicate a balanced performance, further exploration of hyperparameter optimization and feature engineering may lead to improvements in classification accuracy. The choice between L1 and L2 distances should be made considering the specific characteristics and requirements of the dataset and application.\n"
      ],
      "metadata": {
        "id": "1SeuLGTWNkDT"
      }
    },
    {
      "cell_type": "code",
      "source": [],
      "metadata": {
        "id": "MW4DL20DFRsW"
      },
      "execution_count": null,
      "outputs": []
    }
  ]
}