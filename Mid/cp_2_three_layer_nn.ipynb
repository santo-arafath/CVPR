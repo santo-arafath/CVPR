{
  "nbformat": 4,
  "nbformat_minor": 0,
  "metadata": {
    "colab": {
      "provenance": []
    },
    "kernelspec": {
      "name": "python3",
      "display_name": "Python 3"
    },
    "language_info": {
      "name": "python"
    }
  },
  "cells": [
    {
      "cell_type": "code",
      "execution_count": 9,
      "metadata": {
        "id": "lbuyxFCY97-b"
      },
      "outputs": [],
      "source": [
        "import numpy as np\n",
        "import matplotlib.pyplot as plt\n",
        "\n",
        "np.random.seed(0)\n",
        "\n",
        "X = np.array([ [0,0], [0,1], [1,0], [1,1] ])\n",
        "Y = np.array([ [0], [1], [1], [0] ])"
      ]
    },
    {
      "cell_type": "code",
      "source": [
        "class NeuralNetwork(object):\n",
        "    def __init__(self):\n",
        "        inputLayerNeurons = 2\n",
        "        hiddenLayerNeurons = 10\n",
        "        hiddenLayerNeurons_layer2 = 10\n",
        "        outLayerNeurons = 1\n",
        "\n",
        "        self.learning_rate = 0.2\n",
        "        self.W_HI = np.random.randn(inputLayerNeurons, hiddenLayerNeurons)\n",
        "        self.W_H2H = np.random.randn(hiddenLayerNeurons, hiddenLayerNeurons_layer2)\n",
        "        self.W_OH2 = np.random.randn(hiddenLayerNeurons_layer2, outLayerNeurons)\n",
        "\n",
        "    def sigmoid(self, x, der=False):\n",
        "        if der == True:\n",
        "            return x * (1-x)\n",
        "        else:\n",
        "            return 1 / (1 + np.exp(-x))\n",
        "\n",
        "\n",
        "\n",
        "    def feedForward(self, X):\n",
        "\n",
        "        hidden_input_1 = np.dot(X, self.W_HI)\n",
        "        self.hidden_output_layer_1 = self.sigmoid(hidden_input_1)\n",
        "\n",
        "        Hidden2_input = np.dot(self.hidden_output_layer_1, self.W_H2H)\n",
        "        self.hidden_output_layer_2 = self.sigmoid(Hidden2_input)\n",
        "\n",
        "        output_input = np.dot(self.hidden_output_layer_2, self.W_OH2)\n",
        "        pred = self.sigmoid(output_input)\n",
        "\n",
        "        return pred\n",
        "\n",
        "\n",
        "    def backPropagation(self, X, Y, pred):\n",
        "        output_error = Y - pred\n",
        "        output_delta = output_error * self.sigmoid(pred, der=True)\n",
        "\n",
        "        hidden2_error = output_delta.dot(self.W_OH2.T)\n",
        "        hidden2_delta = hidden2_error * self.sigmoid(self.hidden_output_layer_2, der=True)\n",
        "\n",
        "        hidden1_error = hidden2_delta.dot(self.W_H2H.T)\n",
        "        hidden1_delta = hidden1_error * self.sigmoid(self.hidden_output_layer_1, der=True)\n",
        "\n",
        "\n",
        "        self.W_OH2 += self.hidden_output_layer_2.T.dot(output_delta)\n",
        "        self.W_H2H += self.hidden_output_layer_1.T.dot(hidden2_delta)\n",
        "        self.W_HI += X.T.dot(hidden1_delta)\n",
        "\n",
        "    def train(self, X, Y):\n",
        "        output = self.feedForward(X)\n",
        "        self.backPropagation(X,Y,output)"
      ],
      "metadata": {
        "id": "nDtEGLxA-R8g"
      },
      "execution_count": 10,
      "outputs": []
    },
    {
      "cell_type": "code",
      "source": [
        "NN = NeuralNetwork()\n",
        "\n",
        "err = []\n",
        "for i in range(10000):\n",
        "    NN.train(X,Y)\n",
        "    err.append(np.mean(np.square(Y - NN.feedForward(X))))\n",
        "\n",
        "plt.plot(err)"
      ],
      "metadata": {
        "colab": {
          "base_uri": "https://localhost:8080/",
          "height": 447
        },
        "id": "ZsvzFSgH-WAP",
        "outputId": "fd32cc2f-31c1-4507-c1d3-21f8f5031119"
      },
      "execution_count": 11,
      "outputs": [
        {
          "output_type": "execute_result",
          "data": {
            "text/plain": [
              "[<matplotlib.lines.Line2D at 0x78f5a4c2f910>]"
            ]
          },
          "metadata": {},
          "execution_count": 11
        },
        {
          "output_type": "display_data",
          "data": {
            "text/plain": [
              "<Figure size 640x480 with 1 Axes>"
            ],
            "image/png": "[encoded data removed]"
          },
          "metadata": {}
        }
      ]
    }
  ]
}