{
 "cells": [
  {
   "cell_type": "code",
   "execution_count": 1,
   "id": "6435f610",
   "metadata": {},
   "outputs": [],
   "source": [
    "import tensorflow as tf\n",
    "import pandas as pd\n",
    "import numpy as np\n",
    "import matplotlib.pyplot as plt\n",
    "from tqdm import tqdm\n",
    "import random\n",
    "import os\n",
    "import cv2"
   ]
  },
  {
   "cell_type": "code",
   "execution_count": 2,
   "id": "14e5a723",
   "metadata": {},
   "outputs": [],
   "source": [
    "Data_Dir = 'C:\\\\Users\\\\Dell\\\\Desktop\\\\CVPR\\\\CIFAR-10-images-master\\\\CIFAR-10-images-master\\\\train\\\\'\n",
    "Category=os.listdir(Data_Dir)"
   ]
  },
  {
   "cell_type": "code",
   "execution_count": 3,
   "id": "d67216f0",
   "metadata": {},
   "outputs": [
    {
     "name": "stdout",
     "output_type": "stream",
     "text": [
      "50000\n"
     ]
    }
   ],
   "source": [
    "TRAIN_DATA = []\n",
    "\n",
    "for c in Category:\n",
    "    path = os.path.join(Data_Dir, c)\n",
    "    for img in os.listdir(path):\n",
    "        img_arr = cv2.imread(os.path.join(path, img))\n",
    "        if img_arr is not None:\n",
    "            img_arr = cv2.cvtColor(img_arr, cv2.COLOR_BGR2GRAY)\n",
    "            TRAIN_DATA.append([img_arr, Category.index(c)])\n",
    "        else:\n",
    "            print(f\"Failed to load image: {img}\")\n",
    "\n",
    "print(len(TRAIN_DATA))"
   ]
  },
  {
   "cell_type": "code",
   "execution_count": 4,
   "id": "01827b5c",
   "metadata": {},
   "outputs": [
    {
     "name": "stdout",
     "output_type": "stream",
     "text": [
      "(32, 32)\n"
     ]
    },
    {
     "data": {
      "image/png": "[encoded data removed]",
      "text/plain": [
       "<Figure size 640x480 with 1 Axes>"
      ]
     },
     "metadata": {},
     "output_type": "display_data"
    }
   ],
   "source": [
    "plt.imshow(TRAIN_DATA[0][0])\n",
    "print((TRAIN_DATA[0][0]).shape)"
   ]
  },
  {
   "cell_type": "code",
   "execution_count": null,
   "id": "1978958c",
   "metadata": {},
   "outputs": [],
   "source": [
    "#for i in TRAIN_DATA[0:10]:\n",
    "  # print(i[1])"
   ]
  },
  {
   "cell_type": "code",
   "execution_count": 6,
   "id": "4409b0f8",
   "metadata": {},
   "outputs": [
    {
     "name": "stdout",
     "output_type": "stream",
     "text": [
      "(32, 32)\n"
     ]
    }
   ],
   "source": [
    "print(TRAIN_DATA[0][0].shape)"
   ]
  },
  {
   "cell_type": "code",
   "execution_count": null,
   "id": "2ed109ee",
   "metadata": {},
   "outputs": [],
   "source": []
  },
  {
   "cell_type": "code",
   "execution_count": 5,
   "id": "720d15eb",
   "metadata": {},
   "outputs": [
    {
     "name": "stdout",
     "output_type": "stream",
     "text": [
      "50000 50000\n"
     ]
    }
   ],
   "source": [
    "X=[]\n",
    "Y=[]\n",
    "\n",
    "for img,label in TRAIN_DATA:\n",
    "    X.append(img)\n",
    "    Y.append(label)\n",
    "print(len(X),len(Y)) "
   ]
  },
  {
   "cell_type": "code",
   "execution_count": 6,
   "id": "0d226ead",
   "metadata": {},
   "outputs": [],
   "source": [
    "from sklearn.model_selection import KFold"
   ]
  },
  {
   "cell_type": "code",
   "execution_count": null,
   "id": "ce2d9196",
   "metadata": {},
   "outputs": [],
   "source": [
    "kf = KFold(n_splits=5, shuffle=True)\n",
    "\n",
    "for train_indices, test_indices in kf.split(X):\n",
    "    train_set = [X[i] for i in train_indices]\n",
    "    distances = []\n",
    "    \n",
    "    for test_img in [X[i] for i in test_indices]:\n",
    "        r = []\n",
    "        for train_img in train_set:\n",
    "            sub = np.sum(np.abs(test_img - train_img))\n",
    "            r.append(sub)\n",
    "        distances.append(r)\n",
    "        \n",
    "    \n",
    "    print(distances)"
   ]
  },
  {
   "cell_type": "code",
   "execution_count": 15,
   "id": "d4fa4988",
   "metadata": {},
   "outputs": [],
   "source": []
  },
  {
   "cell_type": "code",
   "execution_count": null,
   "id": "a4c0aecc",
   "metadata": {},
   "outputs": [],
   "source": []
  },
  {
   "cell_type": "code",
   "execution_count": null,
   "id": "fc7184c8",
   "metadata": {},
   "outputs": [],
   "source": []
  }
 ],
 "metadata": {
  "kernelspec": {
   "display_name": "Assignment-1 tf2.4 ",
   "language": "python",
   "name": "assignment-1"
  },
  "language_info": {
   "codemirror_mode": {
    "name": "ipython",
    "version": 3
   },
   "file_extension": ".py",
   "mimetype": "text/x-python",
   "name": "python",
   "nbconvert_exporter": "python",
   "pygments_lexer": "ipython3",
   "version": "3.8.18"
  }
 },
 "nbformat": 4,
 "nbformat_minor": 5
}
